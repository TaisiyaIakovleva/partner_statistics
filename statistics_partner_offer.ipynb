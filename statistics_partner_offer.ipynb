{
 "cells": [
  {
   "cell_type": "code",
   "execution_count": null,
   "metadata": {},
   "outputs": [],
   "source": [
    "import pandas as pd\n",
    "import numpy as np\n",
    "pd.options.display.float_format = '{:,.2f}'.format\n",
    "import seaborn as sns\n",
    "from sklearn.linear_model import LinearRegression\n",
    "import matplotlib.pyplot as plt\n",
    "from math import sqrt\n",
    "from datetime import date\n",
    "date_to = str((date.today()))\n",
    "import pygsheets\n",
    "import configparser  \n",
    "from sqlalchemy import create_engine, text"
   ]
  },
  {
   "cell_type": "code",
   "execution_count": null,
   "metadata": {},
   "outputs": [],
   "source": [
    "config = configparser.ConfigParser()  \n",
    "config.read(\"/Users/Taisia1/Desktop/octacode/config.ini\")  \n",
    "username = config[\"dxcore\"][\"username\"]\n",
    "passwd = config[\"dxcore\"][\"passwd\"]\n",
    "host = config[\"dxcore\"][\"host\"]\n",
    "db = config[\"dxcore\"][\"db\"]\n",
    "\n",
    "\n",
    "def connect():\n",
    "    engine = create_engine(f\"postgresql://{username}:{passwd}@{host}/{db}\")\n",
    "    return engine\n",
    "engine = connect()"
   ]
  },
  {
   "cell_type": "code",
   "execution_count": null,
   "metadata": {},
   "outputs": [],
   "source": [
    "req_orders = f\"\"\"\n",
    "    select name as login, created_time\n",
    "    from dxcore.dxcore.principals\n",
    "    where principals.created_time >= '2023-03-15' and principals.created_time <= '{date_to}' \n",
    "    order by principals.created_time asc\"\"\"\n",
    "\n",
    "with engine.connect() as conn:\n",
    "    registrations = pd.DataFrame(conn.execute(text(req_orders)))   \n",
    "registrations['created_time'] = pd.to_datetime(registrations['created_time'])\n",
    "logins = registrations['login'].unique()\n",
    "registrations"
   ]
  },
  {
   "cell_type": "code",
   "execution_count": null,
   "metadata": {},
   "outputs": [],
   "source": [
    "req_orders = f\"\"\"\n",
    "    select dxcore.principals.name as login, dxcore.principals.id, accounts.clearing_code, accounts.account_code\n",
    "    from dxcore.dxcore.principals\n",
    "    left join dxcore.dxcore.accounts as accounts on principals.id = accounts.owner_id \n",
    "    where name in {tuple(logins)}  \n",
    "     \"\"\"\n",
    "\n",
    "with engine.connect() as conn:\n",
    "    df_live = pd.DataFrame(conn.execute(text(req_orders)))   \n",
    "df_live['symbols'] = df_live['account_code'].str.partition('_')[0]     \n",
    "df_live"
   ]
  },
  {
   "cell_type": "code",
   "execution_count": null,
   "metadata": {},
   "outputs": [],
   "source": [
    "username = config[\"accountmng\"][\"username\"]\n",
    "passwd = config[\"accountmng\"][\"passwd\"]\n",
    "host = config[\"accountmng\"][\"host\"]\n",
    "db = config[\"accountmng\"][\"db\"]\n",
    "\n",
    "\n",
    "\n",
    "def connect():\n",
    "    engine = create_engine(f\"postgresql://{username}:{passwd}@{host}/{db}\")\n",
    "    return engine\n",
    "engine = connect()"
   ]
  },
  {
   "cell_type": "code",
   "execution_count": null,
   "metadata": {},
   "outputs": [],
   "source": [
    "req = f\"\"\"\n",
    "    select login, user_id\n",
    "    from accountmng.public.clients c\n",
    "    where c.login in {tuple(logins)}\n",
    "    \"\"\"\n",
    "\n",
    "with engine.connect() as conn:\n",
    "    users = pd.DataFrame(conn.execute(text(req))) \n",
    "users['user_id'] = users['user_id'].astype(str)    \n",
    "user_ids = users['user_id'].unique() \n",
    "users"
   ]
  },
  {
   "cell_type": "code",
   "execution_count": null,
   "metadata": {},
   "outputs": [],
   "source": [
    "username = config[\"finance_control\"][\"username\"]\n",
    "passwd = config[\"finance_control\"][\"passwd\"]\n",
    "host = config[\"finance_control\"][\"host\"]\n",
    "db = config[\"finance_control\"][\"db\"]\n",
    "\n",
    "\n",
    "def connect():\n",
    "    engine = create_engine(f\"postgresql://{username}:{passwd}@{host}/{db}\")\n",
    "    return engine\n",
    "engine = connect()"
   ]
  },
  {
   "cell_type": "code",
   "execution_count": null,
   "metadata": {},
   "outputs": [],
   "source": [
    "req = f\"\"\"\n",
    "    SELECT auth_user_id as user_id, affiliate_partners.external_id as partner_id, affiliate_offers.external_id as offer_id, affiliate_offers.program_type\n",
    "    FROM affiliate_users\n",
    "    LEFT JOIN affiliate_partners ON affiliate_users.partner_id = affiliate_partners.id\n",
    "    LEFT JOIN affiliate_offers ON affiliate_users.offer_id = affiliate_offers.id\n",
    "    WHERE auth_user_id in {tuple(user_ids)}\n",
    "    \"\"\"\n",
    "\n",
    "with engine.connect() as conn:\n",
    "    partner_offer = pd.DataFrame(conn.execute(text(req)))\n",
    "partner_offer['partner_id'] = partner_offer['partner_id'].astype('int64')\n",
    "partner_offer['offer_id'] = partner_offer['offer_id'].astype('int64')\n",
    "partner_offer"
   ]
  },
  {
   "cell_type": "code",
   "execution_count": null,
   "metadata": {},
   "outputs": [],
   "source": [
    "partner_offer = partner_offer.merge(users, how='left', on='user_id')"
   ]
  },
  {
   "cell_type": "code",
   "execution_count": null,
   "metadata": {},
   "outputs": [],
   "source": [
    "username = config[\"dxcore\"][\"username\"]\n",
    "passwd = config[\"dxcore\"][\"passwd\"]\n",
    "host = config[\"dxcore\"][\"host\"]\n",
    "db = config[\"dxcore\"][\"db\"]\n",
    "\n",
    "\n",
    "def connect():\n",
    "    engine = create_engine(f\"postgresql://{username}:{passwd}@{host}/{db}\")\n",
    "    return engine\n",
    "engine = connect()\n",
    "\n",
    "req = f\"\"\"\n",
    "    SELECT account_code, activity_type, activities.created_time::DATE as transaction_time, principals.name as login, activities.description, activities.action_code,\n",
    "    trim(trailing '$' FROM instruments.symbol) AS quote_currency, activity_legs.quantity as amount\n",
    "    FROM dxcore.dxcore.activity_legs\n",
    "    LEFT JOIN dxcore.dxcore.activities ON activities.id = activity_legs.activity_id\n",
    "    LEFT JOIN dxcore.dxcore.accounts on accounts.id = activities.account_id\n",
    "    LEFT JOIN dxcore.dxcore.principals on principals.id = accounts.owner_id\n",
    "    LEFT JOIN dxcore.dxcore.instruments on instruments.id = activity_legs.instrument_id\n",
    "    where activities.activity_type in ('DEPOSIT')\n",
    "    and (activities.description not similar to ('%%(demo|Demo|test|Test|hedge|Hedge|COMP)%%') or activities.description is null)\n",
    "    --and activities.action_code like '%%COMP%%'\n",
    "    and accounts.clearing_code = 'LIVE'   \n",
    "    and principals.name in {tuple(logins)}\n",
    "    and activities.created_time >= '2023-03-15' and activities.created_time <= '{date_to}'\n",
    "    ORDER BY activities.created_time desc\n",
    "    \"\"\"\n",
    "  \n",
    "with engine.connect() as conn:\n",
    "    df_deposits = pd.DataFrame(conn.execute(text(req))).drop_duplicates()\n",
    "df_deposits.columns = df_deposits.columns.str.replace('quote_currency', 'symbols')\n",
    "df_deposits['transaction_time'] = pd.to_datetime(df_deposits['transaction_time'])\n",
    "req_market_data = f\"\"\"\n",
    "        select bid_time::TIMESTAMP::DATE as transaction_time, REPLACE(REPLACE(event_symbol, 'USD/', ''), '/USD', '') as symbols, --\n",
    "        case\n",
    "            when event_symbol in ('USD/JPY', 'USD/CNH', 'USD/MXN', 'USD/CAD', 'USD/CHF') then (1/bid_price)\n",
    "            when event_symbol in ('BTC/USD', 'ETH/USD', 'EUR/USD', 'GBP/USD', 'AUD/USD', 'NZD/USD') then bid_price\n",
    "        end as bid_price\n",
    "    from dxcore.dxcore.quotes_history qh \n",
    "    where event_symbol in ('BTC/USD', 'ETH/USD', 'EUR/USD', 'GBP/USD', 'USD/JPY', 'USD/CNH', \n",
    "    \t\t\t\t\t\t'USD/MXN', 'AUD/USD', 'USD/CAD', 'NZD/USD', 'USD/CHF')\n",
    "    and bid_time >= '2018-12-20'\n",
    "    --and bid_time::TIMESTAMP::DATE \"\"\"\n",
    "\n",
    "with engine.connect() as conn:\n",
    "    df_market_data = pd.DataFrame(conn.execute(text(req_market_data))).drop_duplicates(subset=['transaction_time', 'symbols'])\n",
    "\n",
    "df_market_data['transaction_time'] = pd.to_datetime(df_market_data['transaction_time']) \n",
    "df_deposits = (\n",
    "    df_deposits.merge(df_market_data, how='left', on=['transaction_time', 'symbols'])\n",
    "    .fillna({'bid_price': 1})\n",
    ").drop_duplicates()\n",
    "df_deposits\n",
    "\n",
    "df_deposits['in_usd'] = df_deposits['amount'].astype('float') * df_deposits['bid_price'].astype('float')\n",
    "df_deposits = df_deposits.groupby(['login']).agg({'in_usd': ['sum', 'mean', 'count']})\n",
    "df_deposits.columns = ['deposit_sum', 'deposit_mean', 'deposit_count']\n",
    "df_deposits = df_deposits.reset_index()"
   ]
  },
  {
   "cell_type": "code",
   "execution_count": null,
   "metadata": {},
   "outputs": [],
   "source": [
    "partner_offer = partner_offer.merge(df_deposits, how='left', on='login')\n",
    "partner_offer"
   ]
  },
  {
   "cell_type": "code",
   "execution_count": null,
   "metadata": {},
   "outputs": [],
   "source": [
    "offers = pd.read_csv('/Users/Taisia1/Desktop/octacode/partner_offer/offers.csv')\n",
    "partners = pd.read_csv('/Users/Taisia1/Desktop/octacode/partner_offer/partners.csv')\n",
    "df = registrations.merge(df_live, how='left', on='login').merge(partner_offer, how='left', on='login')\n",
    "df"
   ]
  },
  {
   "cell_type": "code",
   "execution_count": null,
   "metadata": {},
   "outputs": [],
   "source": [
    "username = config[\"dxcore\"][\"username\"]\n",
    "passwd = config[\"dxcore\"][\"passwd\"]\n",
    "host = config[\"dxcore\"][\"host\"]\n",
    "db = config[\"dxcore\"][\"db\"]\n",
    "\n",
    "def connect():\n",
    "    engine = create_engine(f\"postgresql://{username}:{passwd}@{host}/{db}\")\n",
    "    return engine\n",
    "engine = connect()\n",
    "\n",
    "req_orders = f\"\"\"select\n",
    "    principals.name as login,\n",
    "    accounts.account_code as account_id,\n",
    "    order_instrument.symbol as order_symbol,\n",
    "    split_part(order_instrument.symbol, '/', 2) as symbol,\n",
    "    order_instrument.additional_fields::json->-0->'val' as pair_type,\n",
    "    activities.order_id as order_id, orders.created_time, orders.parameters,\n",
    "    coalesce(order_legs.position_code, activity_legs.position_code, activities.linked_position_code, '') as position_code,\n",
    "    abs(activity_legs.quantity) as quantity, activities.transaction_time::DATE,\n",
    "    order_legs.price as price,\n",
    "    coalesce(orders.extensions::json->0->'val'->'PL_SETTLED_IN_TRADE_CURRENCY', '0')::text::decimal as PNL_3,\n",
    "    coalesce(orders.extensions::json->1->'val'->'PL_SETTLED_IN_TRADE_CURRENCY', '0')::text::decimal as PNL_1,\n",
    "    coalesce(orders.extensions::json->2->'val'->'PL_SETTLED_IN_TRADE_CURRENCY', '0')::text::decimal as PNL_2,\n",
    "    coalesce(case when coalesce(orders.parameters::json->>'ORDER_EXEC_STRATEGY_NAME', opening_order.parameters::json->>'ORDER_EXEC_STRATEGY_NAME', 'B_BOOK') = 'FX_STP' \n",
    "    then round(abs((activity_legs.price - hedge.price) * orders.filled_quantity), 5) end, 0) as markup,\n",
    "    coalesce(order_legs.position_effect, '') as position_effect\n",
    "    from\n",
    "        dxcore.dxcore.activities as activities\n",
    "    inner join\n",
    "        dxcore.dxcore.accounts as accounts on activities.account_id = accounts.id and accounts.id not in (111) and accounts.clearing_code in ('LIVE')\n",
    "    inner join\n",
    "        dxcore.dxcore.principals as principals on accounts.owner_id = principals.id\n",
    "    inner join\n",
    "        dxcore.dxcore.instruments account_instrument on accounts.currency_id = account_instrument.id\n",
    "    inner join\n",
    "        dxcore.dxcore.activity_legs as activity_legs on activities.id = activity_legs.activity_id\n",
    "    inner join\n",
    "        dxcore.dxcore.instruments order_instrument on activity_legs.instrument_id = order_instrument.id\n",
    "    inner join\n",
    "        dxcore.dxcore.orders as orders on activities.order_id = orders.id and (orders.status is null or orders.status = 'COMPLETED')\n",
    "    inner join\n",
    "        dxcore.dxcore.order_legs as order_legs on orders.id = order_legs.order_id and activity_legs.leg_type = 'POS_ADJUST'\n",
    "    left join\n",
    "        dxcore.dxcore.orders as opening_order on (order_legs.position_code = opening_order.order_chain_id::text and opening_order.status = 'COMPLETED')\n",
    "    left join\n",
    "        (SELECT orders.id, coalesce(orders.extensions::json->0->'val'->'hedgingOrderId', \n",
    "            orders.extensions::json->1->'val'->'hedgingOrderId',\n",
    "            orders.extensions::json->2->'val'->'hedgingOrderId',\n",
    "            orders.extensions::json->3->'val'->'hedgingOrderId',  '0')::text::decimal as hedge_id FROM dxcore.dxcore.orders) hedge_order\n",
    "        on orders.id = hedge_order.id\n",
    "    left join\n",
    "        dxcore.dxcore.order_legs hedge on hedge.order_id = hedge_order.hedge_id\n",
    "    where\n",
    "      activities.transaction_time >= '2023-03-15' and activities.transaction_time <= '{date_to}' \n",
    "    and\n",
    "        activities.activity_type = 'TRADE'\n",
    "    order by\n",
    "        activities.transaction_time asc\"\"\"\n",
    "\n",
    "with engine.connect() as conn:\n",
    "    df_orders = pd.DataFrame(conn.execute(text(req_orders)))   \n",
    "df_orders['transaction_time'] = pd.to_datetime(df_orders['transaction_time'])\n",
    "df_orders['pnl'] = df_orders['pnl_1'] + df_orders['pnl_2'] + df_orders['pnl_3']\n",
    "df_orders['symbols'] = df_orders['order_symbol'].str.partition('/')[2]\n",
    "df_orders\n",
    "    "
   ]
  },
  {
   "cell_type": "code",
   "execution_count": null,
   "metadata": {},
   "outputs": [],
   "source": [
    "req_market_data = f\"\"\"\n",
    "        select bid_time::TIMESTAMP::DATE as transaction_time, REPLACE(REPLACE(event_symbol, 'USD/', ''), '/USD', '') as symbols, --\n",
    "        case\n",
    "            when event_symbol in ('USD/JPY', 'USD/CNH', 'USD/MXN', 'USD/CAD', 'USD/CHF') then (1/bid_price)\n",
    "            when event_symbol in ('BTC/USD', 'ETH/USD', 'EUR/USD', 'GBP/USD', 'AUD/USD', 'NZD/USD') then bid_price\n",
    "        end as bid_price\n",
    "    from dxcore.dxcore.quotes_history qh \n",
    "    where event_symbol in ('BTC/USD', 'ETH/USD', 'EUR/USD', 'GBP/USD', 'USD/JPY', 'USD/CNH', \n",
    "    \t\t\t\t\t\t'USD/MXN', 'AUD/USD', 'USD/CAD', 'NZD/USD', 'USD/CHF')\n",
    "    and bid_time >= '2018-12-20'\n",
    "    --and bid_time::TIMESTAMP::DATE \"\"\"\n",
    "\n",
    "with engine.connect() as conn:\n",
    "    df_market_data = pd.DataFrame(conn.execute(text(req_market_data))).drop_duplicates(subset=['transaction_time', 'symbols'])\n",
    "\n",
    "df_market_data['transaction_time'] = pd.to_datetime(df_market_data['transaction_time']) \n",
    "df_market_data"
   ]
  },
  {
   "cell_type": "code",
   "execution_count": null,
   "metadata": {},
   "outputs": [],
   "source": [
    "df_date_symbol = df_orders.merge(df_market_data, how='left', on=['transaction_time', 'symbols'])\n",
    "df_date_symbol['bid_price'] = df_date_symbol['bid_price'].fillna(1)\n",
    "df_date_symbol['pnl'] = (df_date_symbol['pnl']) * df_date_symbol['bid_price']\n",
    "df_date_symbol = df_date_symbol[['account_id','login', 'order_symbol', 'symbols', 'transaction_time', 'price', 'pnl', 'quantity', 'bid_price']]\n",
    "df_date_symbol['volume'] = df_date_symbol['price'].astype(float) * df_date_symbol['quantity'].astype(float) * df_date_symbol['bid_price'].astype(float)\n",
    "df_date_symbol['transaction_time'] = pd.to_datetime(df_date_symbol['transaction_time'])\n",
    "df_date_symbol = df_date_symbol.groupby(['login']).agg({'volume': ['sum', 'mean']}).reset_index()\n",
    "df_date_symbol.columns = ['login', 'volume', 'mean_volume']\n",
    "df_date_symbol"
   ]
  },
  {
   "cell_type": "code",
   "execution_count": null,
   "metadata": {},
   "outputs": [],
   "source": [
    "partners = pd.read_csv('/Users/Taisia1/Desktop/octacode/partner_offer/partners.csv')\n",
    "df = df.merge(partners, how='left', on='partner_id').merge(offers, how='left', on='offer_id').merge(df_date_symbol, how='left', on='login')\n",
    "df.head()"
   ]
  },
  {
   "cell_type": "code",
   "execution_count": null,
   "metadata": {},
   "outputs": [],
   "source": [
    "df['LIVE'] = df['clearing_code']\n",
    "df.loc[df['LIVE'] != 'LIVE', 'LIVE'] = None\n",
    "\n",
    "df['DEMO'] = df['clearing_code']\n",
    "df.loc[df['DEMO'] != 'DEMO', 'DEMO'] = None"
   ]
  },
  {
   "cell_type": "code",
   "execution_count": null,
   "metadata": {},
   "outputs": [],
   "source": [
    "result_partner = df.groupby(['partner_description', 'offer_description']).agg({'login': 'count', 'deposit_sum': 'sum', 'volume': 'sum', 'LIVE': 'count', 'DEMO': 'count'})\n",
    "result_partner = result_partner.reset_index()\n",
    "result_partner.columns = ['partner_description', 'offer_description', 'registrations', 'deposit_sum', 'volume', 'LIVE', 'DEMO']\n",
    "result_partner"
   ]
  },
  {
   "cell_type": "code",
   "execution_count": null,
   "metadata": {},
   "outputs": [],
   "source": [
    "key = \"/Users/Taisia1/Desktop/octacode/deposite/creds.json\"\n",
    "client = pygsheets.authorize(service_file=key)\n",
    "sh = client.open(\"order_statistics\")\n",
    "wks = sh.worksheet_by_title('statistics_partner')\n",
    "wks.clear()\n",
    "wks.set_dataframe(\n",
    "    result_partner, (1, 1),\n",
    "    copy_index=False, header=True)"
   ]
  },
  {
   "cell_type": "code",
   "execution_count": null,
   "metadata": {},
   "outputs": [],
   "source": [
    "result.to_csv('statistics_partner_offer.csv')"
   ]
  }
 ],
 "metadata": {
  "kernelspec": {
   "display_name": "Python 3",
   "language": "python",
   "name": "python3"
  },
  "language_info": {
   "codemirror_mode": {
    "name": "ipython",
    "version": 3
   },
   "file_extension": ".py",
   "mimetype": "text/x-python",
   "name": "python",
   "nbconvert_exporter": "python",
   "pygments_lexer": "ipython3",
   "version": "3.11.4"
  },
  "orig_nbformat": 4
 },
 "nbformat": 4,
 "nbformat_minor": 2
}
